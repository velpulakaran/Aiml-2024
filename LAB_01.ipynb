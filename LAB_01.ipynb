{
  "nbformat": 4,
  "nbformat_minor": 0,
  "metadata": {
    "colab": {
      "provenance": [],
      "include_colab_link": true
    },
    "kernelspec": {
      "name": "python3",
      "display_name": "Python 3"
    },
    "language_info": {
      "name": "python"
    }
  },
  "cells": [
    {
      "cell_type": "markdown",
      "metadata": {
        "id": "view-in-github",
        "colab_type": "text"
      },
      "source": [
        "<a href=\"https://colab.research.google.com/github/velpulakaran/Aiml-2024/blob/main/LAB_01.ipynb\" target=\"_parent\"><img src=\"https://colab.research.google.com/assets/colab-badge.svg\" alt=\"Open In Colab\"/></a>"
      ]
    },
    {
      "cell_type": "markdown",
      "source": [
        "Lab-01:Introduction to Python,matplotib,Numpy\n",
        "\n",
        "Part 01:Implement basic data structures using Numpy and Pandas."
      ],
      "metadata": {
        "id": "Uj-GAcnsod2R"
      }
    },
    {
      "cell_type": "code",
      "source": [
        "import numpy as np\n",
        "import matplotlib.pyplot as plt\n",
        "import pandas as pd\n"
      ],
      "metadata": {
        "id": "xIAYYnWpok9I"
      },
      "execution_count": null,
      "outputs": []
    },
    {
      "cell_type": "code",
      "source": [
        "## Create a list, array\n",
        "list1 = [1,2,3,4]\n",
        "array1  = np.array(list1)\n",
        "array1\n",
        "array2 = np.array([1,2,3,4])\n",
        "list1, array1, array2"
      ],
      "metadata": {
        "colab": {
          "base_uri": "https://localhost:8080/"
        },
        "id": "6ZoYP7d_ozgO",
        "outputId": "fd5e1e77-8466-4ffb-eff1-b615a97a4e23"
      },
      "execution_count": null,
      "outputs": [
        {
          "output_type": "execute_result",
          "data": {
            "text/plain": [
              "([1, 2, 3, 4], array([1, 2, 3, 4]), array([1, 2, 3, 4]))"
            ]
          },
          "metadata": {},
          "execution_count": 3
        }
      ]
    },
    {
      "cell_type": "code",
      "source": [
        "## Identify the type of Data structure\n",
        "type(list1), type(array1), type(array2)\n"
      ],
      "metadata": {
        "colab": {
          "base_uri": "https://localhost:8080/"
        },
        "id": "nKKWgik6o3lV",
        "outputId": "3b5e099e-af8a-4ca6-96c1-1c8fab5a671c"
      },
      "execution_count": null,
      "outputs": [
        {
          "output_type": "execute_result",
          "data": {
            "text/plain": [
              "(list, numpy.ndarray, numpy.ndarray)"
            ]
          },
          "metadata": {},
          "execution_count": 4
        }
      ]
    },
    {
      "cell_type": "code",
      "source": [
        "\n",
        "## Perform Mathematical operations on arrays, lists\n",
        "print(\"Adding two arrays:\", array1 + array2)\n",
        "print(\"Subtracting two arrays: array1 - array2\")\n",
        "print(\"Multiplying two arrays: array1 * array2\")\n",
        "print(\"Dividing two arrays: array1 / array2)\")\n",
        "print(\"Exponentiating two arrays: array1 ** array2\")\n",
        "print(\"Multiply array to list: array2 * list1\")"
      ],
      "metadata": {
        "colab": {
          "base_uri": "https://localhost:8080/"
        },
        "id": "xHP91b9no9b2",
        "outputId": "4009cf6c-9e91-4760-c78d-dae8f9b149b9"
      },
      "execution_count": null,
      "outputs": [
        {
          "output_type": "stream",
          "name": "stdout",
          "text": [
            "Adding two arrays: [2 4 6 8]\n",
            "Subtracting two arrays: array1 - array2\n",
            "Multiplying two arrays: array1 * array2\n",
            "Dividing two arrays: array1 / array2)\n",
            "Exponentiating two arrays: array1 ** array2\n",
            "Multiply array to list: array2 * list1\n"
          ]
        }
      ]
    },
    {
      "cell_type": "code",
      "source": [
        "# Combine text with Numpy function\n",
        "print(f\"Adding{array1} with {array2}\")\n",
        "print(f\"Result: {np.add(array1, array2)}\")"
      ],
      "metadata": {
        "colab": {
          "base_uri": "https://localhost:8080/"
        },
        "id": "b-Htd5TIpCxh",
        "outputId": "a17f1353-0075-42b5-d6e0-db016a078f36"
      },
      "execution_count": null,
      "outputs": [
        {
          "output_type": "stream",
          "name": "stdout",
          "text": [
            "Adding[1 2 3 4] with [1 2 3 4]\n",
            "Result: [2 4 6 8]\n"
          ]
        }
      ]
    },
    {
      "cell_type": "code",
      "source": [
        "# Find the Sin, Log, Log2, Exp values\n",
        "print(f\"Sine value of array1:{np.sin(array1)}\")\n",
        "print(f\"Log value of array1:{np.log(array1)}\")\n",
        "print(f\"Log base 2 value of array1:{np.log2(array1)}\")\n",
        "print(f\"Log base 10 value of array1:{np.log10(array1)}\")\n",
        "print(f\"Exponential value of array1:{np.exp(array1)}\")"
      ],
      "metadata": {
        "colab": {
          "base_uri": "https://localhost:8080/"
        },
        "id": "AhIajlhxpIy0",
        "outputId": "7a2e249c-562d-404d-86f6-ec25f5cfaed3"
      },
      "execution_count": null,
      "outputs": [
        {
          "output_type": "stream",
          "name": "stdout",
          "text": [
            "Sine value of array1:[ 0.84147098  0.90929743  0.14112001 -0.7568025 ]\n",
            "Log value of array1:[0.         0.69314718 1.09861229 1.38629436]\n",
            "Log base 2 value of array1:[0.        1.        1.5849625 2.       ]\n",
            "Log base 10 value of array1:[0.         0.30103    0.47712125 0.60205999]\n",
            "Exponential value of array1:[ 2.71828183  7.3890561  20.08553692 54.59815003]\n"
          ]
        }
      ]
    },
    {
      "cell_type": "markdown",
      "source": [
        "Part 02:Visualize the data using Matplotib,pyplot Libraries"
      ],
      "metadata": {
        "id": "5QBJN_kqpNi5"
      }
    },
    {
      "cell_type": "code",
      "source": [
        "import matplotlib.pyplot as plt\n"
      ],
      "metadata": {
        "id": "rklLsKSSpTbc"
      },
      "execution_count": null,
      "outputs": []
    },
    {
      "cell_type": "code",
      "source": [
        "#Create the data\n",
        "people=[\"Lasya\",\"Varshini\",\"Madhu\",\"Samhhitha\",\"Bhanu\"]\n",
        "age=[20,18,17,19,16]\n",
        "height=[145,156,152,153,151]\n",
        "weight=[42,47,62,58,40]"
      ],
      "metadata": {
        "id": "UtMpWzqdpYGw"
      },
      "execution_count": null,
      "outputs": []
    },
    {
      "cell_type": "code",
      "source": [
        "#Generate scatter plot\n",
        "#Find the relationship between age and height\n",
        "plt.scatter(age,height)\n",
        "plt.xlabel(\"age\")\n",
        "plt.ylabel('height')\n",
        "plt.title(\"Age vs Height\")\n",
        "plt.show()"
      ],
      "metadata": {
        "colab": {
          "base_uri": "https://localhost:8080/",
          "height": 472
        },
        "id": "4WIhPxcqpeRm",
        "outputId": "ac4ae3df-a121-4292-bfe3-830466274546"
      },
      "execution_count": null,
      "outputs": [
        {
          "output_type": "display_data",
          "data": {
            "text/plain": [
              "<Figure size 640x480 with 1 Axes>"
            ],
            "image/png": "[encoded data removed]"
          },
          "metadata": {}
        }
      ]
    },
    {
      "cell_type": "code",
      "source": [
        "#Generate Bar Chart\n",
        "#Bar chart for height\n",
        "plt.figure(figsize=(5,4))\n",
        "plt.bar(age,height)\n",
        "plt.xlabel(\"People\")\n",
        "plt.ylabel('height')\n",
        "plt.title(\"Height of the people\")\n",
        "plt.show()\n",
        "save=plt.savefig('bar_chart.png')"
      ],
      "metadata": {
        "colab": {
          "base_uri": "https://localhost:8080/",
          "height": 427
        },
        "id": "pAEN399dpjPY",
        "outputId": "e4ba6760-6025-4b38-8ee4-616b1a4c5beb"
      },
      "execution_count": null,
      "outputs": [
        {
          "output_type": "display_data",
          "data": {
            "text/plain": [
              "<Figure size 500x400 with 1 Axes>"
            ],
            "image/png": "[encoded data removed]"
          },
          "metadata": {}
        },
        {
          "output_type": "display_data",
          "data": {
            "text/plain": [
              "<Figure size 640x480 with 0 Axes>"
            ]
          },
          "metadata": {}
        }
      ]
    },
    {
      "cell_type": "markdown",
      "source": [],
      "metadata": {
        "id": "dNanFAp1obK-"
      }
    }
  ]
}